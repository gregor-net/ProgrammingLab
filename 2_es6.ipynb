{
 "cells": [
  {
   "cell_type": "markdown",
   "metadata": {},
   "source": [
    "### **Valori di Co2**\n",
    "\n",
    "1. Carica tramite numpy il file generato e salvato a lezione sulle emissioni di CO2\n",
    "\n",
    "2. Calcola quanti valori ci CO2 sono sopra la soglia di 18  tonnellate per anno ed il loro valore medio\n",
    "\n",
    "3. Calcola la frazione totale di emissione sopra la soglia (somma totale sopra la soglia/somma totale)"
   ]
  },
  {
   "cell_type": "code",
   "execution_count": 16,
   "metadata": {},
   "outputs": [
    {
     "name": "stdout",
     "output_type": "stream",
     "text": [
      "26\n",
      "18.965\n",
      "0.1980845944024201\n"
     ]
    }
   ],
   "source": [
    "import numpy as np\n",
    "\n",
    "emissioni = np.loadtxt(r\"C:\\Users\\gregor\\Documents\\GitHub\\ProgrammingLab\\dati\\emissioni.txt\"\n",
    ", delimiter=\",\", dtype=str)\n",
    "e = np.array(emissioni, dtype=float)\n",
    "emi = [i for i in range(len(e)) if e[i]>18]\n",
    "emi = e[emi]\n",
    "\n",
    "print(len(emi))\n",
    "print(np.average(emi))\n",
    "print(sum(emi)/sum(e))\n",
    "\n"
   ]
  }
 ],
 "metadata": {
  "kernelspec": {
   "display_name": "base",
   "language": "python",
   "name": "python3"
  },
  "language_info": {
   "codemirror_mode": {
    "name": "ipython",
    "version": 3
   },
   "file_extension": ".py",
   "mimetype": "text/x-python",
   "name": "python",
   "nbconvert_exporter": "python",
   "pygments_lexer": "ipython3",
   "version": "3.12.3"
  }
 },
 "nbformat": 4,
 "nbformat_minor": 2
}
