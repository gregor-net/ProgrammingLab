{
 "cells": [
  {
   "cell_type": "markdown",
   "metadata": {},
   "source": [
    "# **Operazioni su Array**\n",
    "Crea un array `a` 2D senza digitarlo esplicitamente e genera due nuovi array `b` contenente la sua seconda e quarta riga e `c` contenente solo la terza colonna. Dividi ogni colonna dell'array `a` elemento per elemento con l'array `c`."
   ]
  },
  {
   "cell_type": "code",
   "execution_count": 3,
   "metadata": {},
   "outputs": [
    {
     "name": "stdout",
     "output_type": "stream",
     "text": [
      "Array a:\n",
      " [[ 1  3  5  7]\n",
      " [ 9 11 13 15]\n",
      " [17 19 21 23]\n",
      " [25 27 29 31]]\n",
      "\n",
      "Alternativa aa:\n",
      " [[  1   2   3   4   5   6   7   8   9  10]\n",
      " [  2   4   6   8  10  12  14  16  18  20]\n",
      " [  3   6   9  12  15  18  21  24  27  30]\n",
      " [  4   8  12  16  20  24  28  32  36  40]\n",
      " [  5  10  15  20  25  30  35  40  45  50]\n",
      " [  6  12  18  24  30  36  42  48  54  60]\n",
      " [  7  14  21  28  35  42  49  56  63  70]\n",
      " [  8  16  24  32  40  48  56  64  72  80]\n",
      " [  9  18  27  36  45  54  63  72  81  90]\n",
      " [ 10  20  30  40  50  60  70  80  90 100]]\n",
      "\n",
      "Array b (2ª e 4ª riga di a):\n",
      " [[ 9 11 13 15]\n",
      " [25 27 29 31]]\n",
      "\n",
      "Array c (3ª colonna di a):\n",
      " [ 5 13 21 29]\n",
      "\n",
      "Risultato della divisione:\n",
      " [[0.2        0.23076923 0.23809524 0.24137931]\n",
      " [1.8        0.84615385 0.61904762 0.51724138]\n",
      " [3.4        1.46153846 1.         0.79310345]\n",
      " [5.         2.07692308 1.38095238 1.06896552]]\n"
     ]
    }
   ],
   "source": [
    "import numpy as np\n",
    "\n",
    "# Creazione dell'array 2D\n",
    "a = np.arange(1, 32, 2).reshape(4, 4)\n",
    "\n",
    "aa = np.array([np.array([i for i in range (1,11)]) * j for j in range (1,11)])\n",
    "\n",
    "b = a[[1, 3], :]\n",
    "\n",
    "c = a[:, 2]\n",
    "\n",
    "risultato = a / c\n",
    "\n",
    "# Stampa dei risultati\n",
    "print(\"Array a:\\n\", a)\n",
    "print(\"\\nAlternativa aa:\\n\", aa)\n",
    "print(\"\\nArray b (2ª e 4ª riga di a):\\n\", b)\n",
    "print(\"\\nArray c (3ª colonna di a):\\n\", c)\n",
    "print(\"\\nRisultato della divisione:\\n\", risultato)"
   ]
  }
 ],
 "metadata": {
  "kernelspec": {
   "display_name": "Python 3",
   "language": "python",
   "name": "python3"
  },
  "language_info": {
   "codemirror_mode": {
    "name": "ipython",
    "version": 3
   },
   "file_extension": ".py",
   "mimetype": "text/x-python",
   "name": "python",
   "nbconvert_exporter": "python",
   "pygments_lexer": "ipython3",
   "version": "3.10.11"
  }
 },
 "nbformat": 4,
 "nbformat_minor": 2
}
