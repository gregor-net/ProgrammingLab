{
 "cells": [
  {
   "cell_type": "markdown",
   "metadata": {},
   "source": [
    "### **Manipolazione di vettori**\n",
    "\n",
    "1. Creare un vettore contenente i seguenti stipendi: **50.000, 105.250, 55.000, 89.000**.  \n",
    "Qual è il costo totale del personale (somma di tutti gli stipendi dell'azienda)?\n",
    "\n",
    "2. Supponiamo che il nostro malvagio CEO abbia deciso di darsi un aumento.  \n",
    "Modifica il vettore degli stipendi in modo che il CEO, la persona che guadagna **105.250 dollari**, riceva un aumento del **15%**.\n",
    "\n",
    "3. Il **115%** di **105.250 dollari** è **121.037,50 dollari**.  \n",
    "Questo valore è presente nel tuo array? Se no, riesci a capire il motivo?\n",
    "\n",
    "4. Ricrea il vettore e utilizza l'argomento **`dtype`** in modo che, quando il CEO riceve un aumento del **15%**, il suo stipendio finale sia esattamente **121.037,50 dollari**.\n",
    "\n",
    "5. Questo aumento ha infastidito l'impiegata con lo stipendio più basso (**50.000 dollari**), che ora pretende un aumento del **20%**.  \n",
    "Modifica il vettore per riflettere questo cambiamento.\n",
    "\n",
    "6. L'aumento dato al CEO e all'impiegata ha irritato gli altri due dipendenti, quindi ora devono ricevere un aumento del **10%**.  \n",
    "Modifica il vettore di conseguenza.\n",
    "\n",
    "7. Calcola il **costo totale del personale** dopo tutti gli aumenti.  \n",
    "Alla fine, quanto è costato all'azienda l'aumento di circa **16.000 dollari** del CEO?\n"
   ]
  },
  {
   "cell_type": "code",
   "execution_count": 20,
   "metadata": {},
   "outputs": [
    {
     "name": "stdout",
     "output_type": "stream",
     "text": [
      "Stipendi prima:  [ 50000. 105250.  55000.  89000.]\n",
      "Somma di tutti gli stipendi prima:  299250.0\n",
      "Stipendi dopo:  [ 60000.  121037.5  60500.   97900. ]\n",
      "Somma di tutti gli stipendi dopo:  339437.5\n",
      "Aumento totale 40187.5\n"
     ]
    }
   ],
   "source": [
    "import numpy as np\n",
    "stipendi = np.array([50000, 105250, 55000, 89000], dtype=float)\n",
    "print(\"Stipendi prima: \",stipendi)\n",
    "somma = sum(stipendi)\n",
    "print(\"Somma di tutti gli stipendi prima: \", somma)\n",
    "\n",
    "max = np.argmax(stipendi)\n",
    "stipendi[max] = stipendi[max] + stipendi[max]*0.15\n",
    "\n",
    "min = np.argmin(stipendi)\n",
    "stipendi[min] = stipendi[min] + stipendi[min]*0.20\n",
    "\n",
    "stipendi[2] = stipendi[2] + stipendi[2]*0.10\n",
    "stipendi[3] = stipendi[3] + stipendi[3]*0.10\n",
    "\n",
    "print(\"Stipendi dopo: \",stipendi)\n",
    "print(\"Somma di tutti gli stipendi dopo: \", sum(stipendi))\n",
    "print(\"Aumento totale\", sum(stipendi)-somma)"
   ]
  }
 ],
 "metadata": {
  "kernelspec": {
   "display_name": "base",
   "language": "python",
   "name": "python3"
  },
  "language_info": {
   "codemirror_mode": {
    "name": "ipython",
    "version": 3
   },
   "file_extension": ".py",
   "mimetype": "text/x-python",
   "name": "python",
   "nbconvert_exporter": "python",
   "pygments_lexer": "ipython3",
   "version": "3.12.3"
  }
 },
 "nbformat": 4,
 "nbformat_minor": 2
}
