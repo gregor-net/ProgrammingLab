{
 "cells": [
  {
   "cell_type": "markdown",
   "metadata": {},
   "source": [
    "### **1. Trasformare cicli in list comprehension**\n",
    "\n",
    "Fai tre esempi di cicli producono una lista e poi riscrivi lo stesso codice usando la list comprehension"
   ]
  },
  {
   "cell_type": "code",
   "execution_count": null,
   "metadata": {},
   "outputs": [
    {
     "name": "stdout",
     "output_type": "stream",
     "text": [
      "[0, 1, 2, 3, 4, 5, 6, 7, 8, 9, 10, 11, 12, 13, 14, 15, 16, 17, 18, 19]\n",
      "[0, 1, 2, 3, 4, 5, 6, 7, 8, 9, 10, 11, 12, 13, 14, 15, 16, 17, 18, 19]\n",
      "['P', 'y', 't', 'h', 'o', 'n']\n",
      "['P', 'y', 't', 'h', 'o', 'n']\n",
      "[0, 1, 4, 9, 16, 25, 36, 49, 64, 81]\n",
      "[0, 1, 4, 9, 16, 25, 36, 49, 64, 81]\n"
     ]
    }
   ],
   "source": [
    "lista = []\n",
    "for i in range(20):\n",
    "    lista.append(i)\n",
    "    \n",
    "print(lista)\n",
    "\n",
    "lista2 = [i for i in range(20)]\n",
    "print(lista2)\n",
    "\n",
    "\n",
    "lista = []\n",
    "parola = \"Python\"\n",
    "for i in parola:\n",
    "    lista.append(i)\n",
    "    \n",
    "print(lista)\n",
    "\n",
    "lista2 = [i for i in parola]\n",
    "\n",
    "print(lista2)\n",
    "\n",
    "\n",
    "lista = []\n",
    "for i in range(10):\n",
    "    lista.append(i*i)\n",
    "    \n",
    "print(lista)\n",
    "\n",
    "lista2 = [i*i for i in range(10)]\n",
    "\n",
    "print(lista2)"
   ]
  },
  {
   "cell_type": "markdown",
   "metadata": {},
   "source": [
    "### **2. Vettore di Numeri Primi**\n",
    "\n",
    "1. **Crea un vettore** contenente tutti i numeri primi compresi tra **0 e 10**  \n",
    "   _(Puoi scriverli direttamente nell'array)._\n",
    "\n",
    "2. **Conta quanti numeri ci sono nel vettore** utilizzando la funzione `len()`.  **Ottieni lo stesso numero** accedendo all'attributo `.size` del vettore.\n",
    "\n",
    "3. Quale pensi sia il tipo di dato (`dtype`) del vettore?  Prova a rispondere senza eseguire il codice e Verifica la tua risposta accedendo all'attributo `.dtype` del vettore\n",
    "\n",
    "4. Scrivi l'array usando una list comprehension che controlla che i numeri siano primi. "
   ]
  },
  {
   "cell_type": "code",
   "execution_count": 60,
   "metadata": {},
   "outputs": [
    {
     "name": "stdout",
     "output_type": "stream",
     "text": [
      "[1 2 3 5 7]\n",
      "5\n",
      "5\n",
      "int32\n",
      "[1 2 3 5 7]\n"
     ]
    }
   ],
   "source": [
    "import numpy as np\n",
    "\n",
    "num_primi = np.array([1,2,3,5,7])\n",
    "print(num_primi)\n",
    "print(len(num_primi))\n",
    "print(num_primi.size)\n",
    "\n",
    "#tipo di dato = INT\n",
    "\n",
    "print(num_primi.dtype)\n",
    "#e davvero int --> int32\n",
    "\n",
    "def primo():\n",
    "    lista = []\n",
    "    for i in range(1,10):\n",
    "        isprimo = 1\n",
    "        for j in range(2,i):\n",
    "            if i % j == 0:\n",
    "                isprimo = 0\n",
    "        if(isprimo == 1):\n",
    "            lista += [i]\n",
    "        else:\n",
    "            i += 1\n",
    "    return lista\n",
    "\n",
    "num_primi2 = np.array(primo())\n",
    "print(num_primi2)\n",
    "\n",
    "    "
   ]
  },
  {
   "cell_type": "markdown",
   "metadata": {},
   "source": [
    "### **3.  Operazioni su array**\n",
    "Crea un array **a**, 1D (senza digitarlo esplicitamente), e genera due nuovi array **b**, contenente una sottostringa a piacere e **c** che è il reverse dell'array **a** (esempio [1,2,3] diventa [3,2,1]) .  Dividi l'array **a** per l'array **c**. Fai la stessa cosa per una lista."
   ]
  },
  {
   "cell_type": "code",
   "execution_count": null,
   "metadata": {},
   "outputs": [
    {
     "name": "stdout",
     "output_type": "stream",
     "text": [
      "[10 11 12 13 14 15 16 17 18 19 20]\n",
      "[13 14 15 16 17]\n",
      "[20 19 18 17 16 15 14 13 12 11 10]\n",
      "[0.5        0.57894737 0.66666667 0.76470588 0.875      1.\n",
      " 1.14285714 1.30769231 1.5        1.72727273 2.        ]\n",
      "[0.0, 0.5, 1.0, 1.5, 2.0, 2.5, 3.0, 3.5, 4.0, 4.5]\n"
     ]
    }
   ],
   "source": [
    "import random as rd\n",
    "\n",
    "a = np.array(np.arange(10,21))\n",
    "print(a)\n",
    "\n",
    "b = a[3:8]\n",
    "print(b)\n",
    "\n",
    "c = a[::-1]\n",
    "print(c)\n",
    "\n",
    "res = a / c\n",
    "print(res)\n",
    "\n",
    "##Divisione per due liste\n",
    "lista = [i for i in range(10)]\n",
    "lista\n",
    "lista2 = [2 for i in range(10)]\n",
    "lista2\n",
    "\n",
    "res2 = []\n",
    "for i in range(10):\n",
    "    res2.append(lista[i] / lista2[i])\n",
    "    \n",
    "print(res2)"
   ]
  }
 ],
 "metadata": {
  "kernelspec": {
   "display_name": "Python 3",
   "language": "python",
   "name": "python3"
  },
  "language_info": {
   "codemirror_mode": {
    "name": "ipython",
    "version": 3
   },
   "file_extension": ".py",
   "mimetype": "text/x-python",
   "name": "python",
   "nbconvert_exporter": "python",
   "pygments_lexer": "ipython3",
   "version": "3.10.11"
  }
 },
 "nbformat": 4,
 "nbformat_minor": 2
}
