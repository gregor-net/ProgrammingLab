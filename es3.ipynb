{
 "cells": [
  {
   "cell_type": "markdown",
   "metadata": {},
   "source": [
    "# **Operazioni su Array**\n",
    "Crea un array `a` 2D senza digitarlo esplicitamente e genera due nuovi array `b` contenente la sua seconda e quarta riga e `c` contenente solo la terza colonna. Dividi ogni colonna dell'array `a` elemento per elemento con l'array `c`."
   ]
  },
  {
   "cell_type": "code",
   "execution_count": null,
   "metadata": {},
   "outputs": [
    {
     "name": "stdout",
     "output_type": "stream",
     "text": [
      "Array a:\n",
      " [[ 1  3  5  7]\n",
      " [ 9 11 13 15]\n",
      " [17 19 21 23]\n",
      " [25 27 29 31]]\n",
      "\n",
      "Array b (2ª e 4ª riga di a):\n",
      " [[ 9 11 13 15]\n",
      " [25 27 29 31]]\n",
      "\n",
      "Array c (3ª colonna di a):\n",
      " [ 5 13 21 29]\n",
      "\n",
      "Risultato della divisione:\n",
      " [[0.2        0.23076923 0.23809524 0.24137931]\n",
      " [1.8        0.84615385 0.61904762 0.51724138]\n",
      " [3.4        1.46153846 1.         0.79310345]\n",
      " [5.         2.07692308 1.38095238 1.06896552]]\n"
     ]
    }
   ],
   "source": [
    "import numpy as np\n",
    "\n",
    "# Creazione dell'array 2D\n",
    "a = np.arange(1, 32, 2).reshape(4, 4)\n",
    "\n",
    "b = a[[1, 3], :]\n",
    "\n",
    "c = a[:, 2]\n",
    "\n",
    "risultato = a / c\n",
    "\n",
    "# Stampa dei risultati\n",
    "print(\"Array a:\\n\", a)\n",
    "print(\"\\nArray b (2ª e 4ª riga di a):\\n\", b)\n",
    "print(\"\\nArray c (3ª colonna di a):\\n\", c)\n",
    "print(\"\\nRisultato della divisione:\\n\", risultato)"
   ]
  }
 ],
 "metadata": {
  "kernelspec": {
   "display_name": "base",
   "language": "python",
   "name": "python3"
  },
  "language_info": {
   "codemirror_mode": {
    "name": "ipython",
    "version": 3
   },
   "file_extension": ".py",
   "mimetype": "text/x-python",
   "name": "python",
   "nbconvert_exporter": "python",
   "pygments_lexer": "ipython3",
   "version": "3.12.3"
  }
 },
 "nbformat": 4,
 "nbformat_minor": 2
}
