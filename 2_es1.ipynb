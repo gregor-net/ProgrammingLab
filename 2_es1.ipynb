{
 "cells": [
  {
   "cell_type": "markdown",
   "metadata": {},
   "source": [
    "### **Indicizzazione booleana**\n",
    "\n",
    "1. Creare un nuovo vettore con tutti i numeri primi tra 0 e 20. I numeri primi compresi tra 0 e 20 sono: **2, 3, 5, 7, 11, 13, 17, 19**.\n",
    "\n",
    "2. Utilizza un test logico (ad esempio `>`, `<`, `==`, `!=`) per **selezionare tutte le voci del vettore maggiori di 10**.\n",
    "\n",
    "3. Utilizza un test logico per selezionare **tutti i numeri primi pari** dalla lista.  "
   ]
  },
  {
   "cell_type": "code",
   "execution_count": 4,
   "metadata": {},
   "outputs": [
    {
     "name": "stdout",
     "output_type": "stream",
     "text": [
      "[ 2  3  5  7 11 13 17 19]\n",
      "[11 13 17 19]\n",
      "[2]\n"
     ]
    }
   ],
   "source": [
    "import numpy as np\n",
    "a = np.array([2, 3, 5, 7, 11, 13, 17, 19])\n",
    "\n",
    "b = a[a>10]\n",
    "\n",
    "c = a[a%2 == 0]\n",
    "\n",
    "print(a)\n",
    "print(b)\n",
    "print(c)"
   ]
  }
 ],
 "metadata": {
  "kernelspec": {
   "display_name": "base",
   "language": "python",
   "name": "python3"
  },
  "language_info": {
   "codemirror_mode": {
    "name": "ipython",
    "version": 3
   },
   "file_extension": ".py",
   "mimetype": "text/x-python",
   "name": "python",
   "nbconvert_exporter": "python",
   "pygments_lexer": "ipython3",
   "version": "3.12.3"
  }
 },
 "nbformat": 4,
 "nbformat_minor": 2
}
