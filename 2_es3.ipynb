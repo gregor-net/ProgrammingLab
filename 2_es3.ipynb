{
 "cells": [
  {
   "cell_type": "markdown",
   "metadata": {},
   "source": [
    "### **Seleziona il numero più vicino a 0.5 in un array casuale**\n",
    "Genera un array 10 x 3 con numeri casuali nell'intervallo [0,1].\n",
    "Per ogni riga, seleziona il numero più vicino a 0.5. Per farlo usa il fancy indexing."
   ]
  },
  {
   "cell_type": "code",
   "execution_count": 14,
   "metadata": {},
   "outputs": [
    {
     "name": "stdout",
     "output_type": "stream",
     "text": [
      "[[0.33561446 0.49829354 0.20831827]\n",
      " [0.31206534 0.43104899 0.13680627]\n",
      " [0.57975639 0.11398556 0.44411943]\n",
      " [0.36773896 0.06380888 0.55111673]\n",
      " [0.79549773 0.22491465 0.10964327]\n",
      " [0.44054633 0.32495877 0.82556155]\n",
      " [0.27810368 0.77575507 0.69662256]\n",
      " [0.3985901  0.76687207 0.66828937]\n",
      " [0.81490734 0.51709592 0.78122914]\n",
      " [0.14490186 0.18204914 0.00727716]]\n",
      "[0.49829354 0.43104899 0.44411943 0.55111673 0.22491465 0.44054633\n",
      " 0.69662256 0.3985901  0.51709592 0.18204914]\n",
      "\n",
      "\n",
      "\n",
      "In classe: \n",
      " [[0.42058016 0.92603173 0.86584158]\n",
      " [0.68958091 0.09951364 0.57238506]\n",
      " [0.32767346 0.02931664 0.76705977]\n",
      " [0.68764476 0.17596005 0.76370601]\n",
      " [0.1598191  0.5633662  0.59747708]\n",
      " [0.77750824 0.09651981 0.84858183]\n",
      " [0.71221786 0.73226843 0.25696993]\n",
      " [0.62647307 0.5133169  0.28840663]\n",
      " [0.8449619  0.93830783 0.53609643]\n",
      " [0.71717144 0.73929529 0.89687981]]\n",
      "[0.42058016 0.57238506 0.32767346 0.68764476 0.5633662  0.77750824\n",
      " 0.71221786 0.5133169  0.53609643 0.71717144]\n"
     ]
    }
   ],
   "source": [
    "import numpy as np\n",
    "import random\n",
    "\n",
    "a = [random.uniform(0,1) for i in range(30)]\n",
    "\n",
    "a = np.array(a).reshape(10,3)\n",
    "\n",
    "b = a[np.arange(10), np.abs(a-0.5).argmin(1)]\n",
    "\n",
    "print(a)\n",
    "print(b)\n",
    "\n",
    "#usando il fancy indexing\n",
    "a =np.random.rand(10,3)\n",
    "\n",
    "colonne = np.abs(a -0.5).argmin(axis=1)\n",
    "\n",
    "righe = np.arange(a.shape[0])\n",
    "\n",
    "b = a[righe, colonne]\n",
    "\n",
    "print(\"\\n\\n\\nIn classe: \\n\",a)\n",
    "print(b)"
   ]
  }
 ],
 "metadata": {
  "kernelspec": {
   "display_name": "Python 3",
   "language": "python",
   "name": "python3"
  },
  "language_info": {
   "codemirror_mode": {
    "name": "ipython",
    "version": 3
   },
   "file_extension": ".py",
   "mimetype": "text/x-python",
   "name": "python",
   "nbconvert_exporter": "python",
   "pygments_lexer": "ipython3",
   "version": "3.10.11"
  }
 },
 "nbformat": 4,
 "nbformat_minor": 2
}
