{
 "cells": [
  {
   "cell_type": "markdown",
   "metadata": {},
   "source": [
    "### **Seleziona il numero più vicino a 0.5 in un array casuale**\n",
    "Genera un array 10 x 3 con numeri casuali nell'intervallo [0,1].\n",
    "Per ogni riga, seleziona il numero più vicino a 0.5. Per farlo usa il fancy indexing."
   ]
  },
  {
   "cell_type": "code",
   "execution_count": 16,
   "metadata": {},
   "outputs": [
    {
     "name": "stdout",
     "output_type": "stream",
     "text": [
      "[[0.0134803  0.50593271 0.71922142]\n",
      " [0.70397452 0.31714684 0.7911645 ]\n",
      " [0.26872304 0.30075494 0.95210374]\n",
      " [0.70238649 0.53748326 0.95210485]\n",
      " [0.70602964 0.01444956 0.59124187]\n",
      " [0.6759818  0.03422034 0.10203267]\n",
      " [0.96677911 0.17939086 0.36523665]\n",
      " [0.96125736 0.9601844  0.33529284]\n",
      " [0.79597902 0.72878731 0.64399388]\n",
      " [0.68331324 0.38260878 0.42593161]]\n",
      "[0.50593271 0.31714684 0.30075494 0.53748326 0.59124187 0.6759818\n",
      " 0.36523665 0.33529284 0.64399388 0.42593161]\n"
     ]
    }
   ],
   "source": [
    "import numpy as np\n",
    "import random\n",
    "\n",
    "a = [random.uniform(0,1) for i in range(30)]\n",
    "\n",
    "a = np.array(a).reshape(10,3)\n",
    "\n",
    "b = a[np.arange(10), np.abs(a-0.5).argmin(1)]\n",
    "\n",
    "print(a)\n",
    "print(b)"
   ]
  }
 ],
 "metadata": {
  "kernelspec": {
   "display_name": "base",
   "language": "python",
   "name": "python3"
  },
  "language_info": {
   "codemirror_mode": {
    "name": "ipython",
    "version": 3
   },
   "file_extension": ".py",
   "mimetype": "text/x-python",
   "name": "python",
   "nbconvert_exporter": "python",
   "pygments_lexer": "ipython3",
   "version": "3.12.3"
  }
 },
 "nbformat": 4,
 "nbformat_minor": 2
}
