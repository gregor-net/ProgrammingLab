{
 "cells": [
  {
   "cell_type": "markdown",
   "metadata": {},
   "source": [
    "# **Operazioni su array**\n",
    "Crea un array **a**, 1D (senza digitarlo esplicitamente), e genera due nuovi array **b**, contenente una sottostringa a piacere e **c** che è il reverse dell'array **a** (esempio [1,2,3] diventa [3,2,1]) .  Dividi l'array **a** per l'array **c**. Fai la stessa cosa per una lista."
   ]
  },
  {
   "cell_type": "code",
   "execution_count": 24,
   "metadata": {},
   "outputs": [
    {
     "name": "stdout",
     "output_type": "stream",
     "text": [
      "Array a:\n",
      " [ 1  2  3  4  5  6  7  8  9 10 11 12 13 14 15 16 17 18 19]\n",
      "\n",
      "Array b sottostringa:\n",
      " [ 6  7  8  9 10 11 12 13 14 15]\n",
      "\n",
      "Array c reverse:\n",
      " [19 18 17 16 15 14 13 12 11 10  9  8  7  6  5  4  3  2  1]\n",
      "\n",
      "Risultato della divisione:\n",
      " [ 0.05263158  0.11111111  0.17647059  0.25        0.33333333  0.42857143\n",
      "  0.53846154  0.66666667  0.81818182  1.          1.22222222  1.5\n",
      "  1.85714286  2.33333333  3.          4.          5.66666667  9.\n",
      " 19.        ]\n",
      "\n",
      " Risultato divisione liste:\n",
      " [0.1111111111111111, 0.25, 0.42857142857142855, 0.6666666666666666, 1.0, 1.5, 2.3333333333333335, 4.0, 9.0]\n"
     ]
    }
   ],
   "source": [
    "import numpy as np\n",
    "\n",
    "# Creazione dell'array 1D\n",
    "a = np.arange(1, 20)\n",
    "\n",
    "b = a[5:15]\n",
    "\n",
    "c = a[::-1]\n",
    "\n",
    "res1 = a / c\n",
    "\n",
    "l1 = [1,2,3,4,5,6,7,8,9]\n",
    "\n",
    "l2 = [9,8,7,6,5,4,3,2,1]\n",
    "\n",
    "res2 = [l1[i] / l2[i] for i in range(len(l1))]\n",
    "\n",
    "print(\"Array a:\\n\", a)\n",
    "print(\"\\nArray b sottostringa:\\n\", b)\n",
    "print(\"\\nArray c reverse:\\n\", c)\n",
    "print(\"\\nRisultato della divisione:\\n\", res1)\n",
    "print(\"\\n Risultato divisione liste:\\n\", res2)\n"
   ]
  }
 ],
 "metadata": {
  "kernelspec": {
   "display_name": "base",
   "language": "python",
   "name": "python3"
  },
  "language_info": {
   "codemirror_mode": {
    "name": "ipython",
    "version": 3
   },
   "file_extension": ".py",
   "mimetype": "text/x-python",
   "name": "python",
   "nbconvert_exporter": "python",
   "pygments_lexer": "ipython3",
   "version": "3.12.3"
  }
 },
 "nbformat": 4,
 "nbformat_minor": 2
}
